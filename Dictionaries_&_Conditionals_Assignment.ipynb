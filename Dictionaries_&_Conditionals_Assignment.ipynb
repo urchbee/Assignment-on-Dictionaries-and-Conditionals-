{
  "nbformat": 4,
  "nbformat_minor": 0,
  "metadata": {
    "kernelspec": {
      "display_name": "Python 3",
      "language": "python",
      "name": "python3"
    },
    "language_info": {
      "codemirror_mode": {
        "name": "ipython",
        "version": 3
      },
      "file_extension": ".py",
      "mimetype": "text/x-python",
      "name": "python",
      "nbconvert_exporter": "python",
      "pygments_lexer": "ipython3",
      "version": "3.8.5"
    },
    "colab": {
      "name": "Dictionaries & Conditionals Assignment.ipynb",
      "provenance": [],
      "include_colab_link": true
    }
  },
  "cells": [
    {
      "cell_type": "markdown",
      "metadata": {
        "id": "view-in-github",
        "colab_type": "text"
      },
      "source": [
        "<a href=\"https://colab.research.google.com/github/urchbee/Assignment-on-Dictionaries-and-Conditionals-/blob/main/Dictionaries_%26_Conditionals_Assignment.ipynb\" target=\"_parent\"><img src=\"https://colab.research.google.com/assets/colab-badge.svg\" alt=\"Open In Colab\"/></a>"
      ]
    },
    {
      "cell_type": "markdown",
      "metadata": {
        "id": "wgHZRYvPD1i1"
      },
      "source": [
        "#Assignment On Dictionary and Conditionals\n"
      ]
    },
    {
      "cell_type": "markdown",
      "metadata": {
        "id": "ApxueWKPEL6Y"
      },
      "source": [
        "This notebook contains the codes and outputs for the questions listed below. Tools used include conditional statements(if,elif,else) and dictionaries."
      ]
    },
    {
      "cell_type": "markdown",
      "metadata": {
        "id": "KDkFnYXLPcVR"
      },
      "source": [
        "## 1.\n",
        "\n",
        "A triangle can be classified based on the lengths of its sides as equilateral, isosceles or\n",
        "scalene. All three sides of an equilateral triangle have the same length. An isosceles\n",
        "triangle has two sides that are the same length, and a third side that is a different\n",
        "length. If all of the sides have different lengths then the triangle is scalene.\n",
        "Write a program that reads the lengths of the three sides of a triangle from the\n",
        "user. Then display a message that states the triangle’s type."
      ]
    },
    {
      "cell_type": "code",
      "metadata": {
        "colab": {
          "base_uri": "https://localhost:8080/"
        },
        "id": "QyRgY6IDq08H",
        "outputId": "be911c2e-1c1f-4b0c-9844-418b216c9524"
      },
      "source": [
        "print(\"Input the lengths of traingle: \")\n",
        "x = int(input(\"x: \"))\n",
        "y = int(input(\"y: \"))\n",
        "z = int(input(\"z: \"))\n",
        "\n",
        "if x == y == z:\n",
        "  print(\"Equilateral Triangle\")\n",
        "elif x == y or y == z or z == x:\n",
        "  print(\"Isosceles Triangle\")\n",
        "elif x != y and y != z and z != y:\n",
        "  print(\"Scalene Triangle\")"
      ],
      "execution_count": 2,
      "outputs": [
        {
          "output_type": "stream",
          "name": "stdout",
          "text": [
            "Input the lengths of traingle: \n",
            "x: 2\n",
            "y: 3\n",
            "z: 2\n",
            "Isosceles Triangle\n"
          ]
        }
      ]
    },
    {
      "cell_type": "markdown",
      "metadata": {
        "id": "HNGp95l7PcW3"
      },
      "source": [
        "## 2.\n",
        "\n",
        "Create a dictionary, then write a code to check whether a given key already exists in the dictionary"
      ]
    },
    {
      "cell_type": "code",
      "metadata": {
        "colab": {
          "base_uri": "https://localhost:8080/"
        },
        "id": "MwNnSTz0RPwl",
        "outputId": "4c9b9dc6-3bbc-4744-cf71-caa864e8b4c1"
      },
      "source": [
        "di1 = {\"movies\": [\"Frozen\", \"Incredibles\", \"Minions\"],\n",
        "       \"series\": [\"Witcher\", \"Vikings\", \"Outlander\"],\n",
        "       \"year\": [2018, 2019, 2020,]}\n",
        "if \"movies\" in di1 :\n",
        "       print(\"Yes, 'movies' is one of the keys in di1 dictionary\")"
      ],
      "execution_count": 19,
      "outputs": [
        {
          "output_type": "stream",
          "name": "stdout",
          "text": [
            "Yes, 'movies' is one of the keys in di1 dictionary\n"
          ]
        }
      ]
    },
    {
      "cell_type": "markdown",
      "metadata": {
        "id": "-C8IaoePPcXC"
      },
      "source": [
        "## 3.\n",
        "\n",
        "Create a dictionary, then write a Python program to remove a key from the dictionary. "
      ]
    },
    {
      "cell_type": "code",
      "metadata": {
        "colab": {
          "base_uri": "https://localhost:8080/"
        },
        "id": "uPo8GOUOVbkf",
        "outputId": "6211effb-38eb-47de-f8d7-e1a15c7946b5"
      },
      "source": [
        "di1 = {\"movies\": [\"Notebook\", \"Incredibles\", \"Minions\"],\n",
        "       \"series\": [\"Witcher\", \"Vikings\", \"Outlander\"],\n",
        "       \"year\": [2018, 2019, 2020,]}\n",
        "di1.pop(\"year\")\n",
        "print(di1)"
      ],
      "execution_count": 8,
      "outputs": [
        {
          "output_type": "stream",
          "name": "stdout",
          "text": [
            "{'movies': ['Notebook', 'Incredibles', 'Minions'], 'series': ['Witcher', 'Vikings', 'Outlander']}\n"
          ]
        }
      ]
    },
    {
      "cell_type": "markdown",
      "metadata": {
        "id": "E2vD1cjJPcXG"
      },
      "source": [
        "## 4.\n",
        "\n",
        "Create a dictionary that contains Name, Location, Gender, Age as keys, then write a code that changes \"Location\" to \"City\"."
      ]
    },
    {
      "cell_type": "code",
      "metadata": {
        "colab": {
          "base_uri": "https://localhost:8080/"
        },
        "id": "WA4-ST7kV0Wf",
        "outputId": "1d0c3688-8edb-4043-ed08-30190f26f8c7"
      },
      "source": [
        "di = {\"name\": \"Sandra\", \n",
        "              \"location\": \"Canada\", \n",
        "              \"gender\": \"F\", \n",
        "              \"age\": \"31\"}\n",
        "di1 = \"city\"\n",
        "di[di1] = di.pop(\"location\")\n",
        "print(di)"
      ],
      "execution_count": 9,
      "outputs": [
        {
          "output_type": "stream",
          "name": "stdout",
          "text": [
            "{'name': 'Sandra', 'gender': 'F', 'age': '31', 'city': 'Canada'}\n"
          ]
        }
      ]
    },
    {
      "cell_type": "markdown",
      "metadata": {
        "id": "Zt0OeScYPcXI"
      },
      "source": [
        "## 5.\n",
        "\n",
        "details = {\n",
        "     'person1': {'name': 'Chioma', 'salary': 7500, 'age': 22},\n",
        "     'person2': {'name': 'Tosin', 'salary': 8000, 'age': 25},\n",
        "     'person3': {'name': 'Promise', 'salary': 6500, 'age': 28}\n",
        "}\n",
        "\n",
        "Write a code that changes Tosin's salary to 9000"
      ]
    },
    {
      "cell_type": "code",
      "metadata": {
        "colab": {
          "base_uri": "https://localhost:8080/"
        },
        "id": "19_cTkhEUmXO",
        "outputId": "00b249bd-a742-4549-bcae-49df976ae96c"
      },
      "source": [
        "details = { 'person1': {'name': 'Chioma', 'salary': 7500, 'age': 22}, \n",
        "           'person2': {'name': 'Tosin', 'salary': 8000, 'age': 25}, \n",
        "           'person3': {'name': 'Promise', 'salary': 6500, 'age': 28} }\n",
        "details['person2']['salary'] = 9000\n",
        "print(details)"
      ],
      "execution_count": 21,
      "outputs": [
        {
          "output_type": "stream",
          "name": "stdout",
          "text": [
            "{'person1': {'name': 'Chioma', 'salary': 7500, 'age': 22}, 'person2': {'name': 'Tosin', 'salary': 9000, 'age': 25}, 'person3': {'name': 'Promise', 'salary': 6500, 'age': 28}}\n"
          ]
        }
      ]
    },
    {
      "cell_type": "markdown",
      "metadata": {
        "id": "rdVZTJMzPcXQ"
      },
      "source": [
        "## 6.\n",
        "\n",
        "A month can last between 28 to 31 days. Write a code that reads the name of a month as a string from the user. The number of days in that month should then be shown by your output. Display \"28 or 29 days\" for February to account for leap years."
      ]
    },
    {
      "cell_type": "code",
      "metadata": {
        "id": "3CDUd3BAQ7sE"
      },
      "source": [
        "month1 = 'January'\n",
        "month2 = 'February'\n",
        "month3 = 'March'\n",
        "month4 = 'April'\n",
        "month5 = 'May'\n",
        "month6 = 'June'\n",
        "month7 = 'July'\n",
        "month8 = 'August'\n",
        "month9 = 'September'\n",
        "month10 = 'October'\n",
        "month11 = 'November'\n",
        "month12 = 'December'"
      ],
      "execution_count": 3,
      "outputs": []
    },
    {
      "cell_type": "code",
      "metadata": {
        "colab": {
          "base_uri": "https://localhost:8080/"
        },
        "id": "mXYM18D8Q-gy",
        "outputId": "94c66007-47ba-486e-dbbf-ac11a19704a5"
      },
      "source": [
        "month = str(input(\"Enter the month: \"))\n",
        "\n",
        "if month == month1:\n",
        "  print(\"31 days\")\n",
        "if month == month2:\n",
        "  print(\"28 or 29 days\")\n",
        "if month == month3:\n",
        "  print(\"31 days\")\n",
        "if month == month4:\n",
        "  print(\"30 days\")\n",
        "if month == month5:\n",
        "  print(\"31 days\")\n",
        "if month == month6:\n",
        "  print(\"30 days\")\n",
        "if month == month7:\n",
        "  print(\"31 days\")\n",
        "if month == month8:\n",
        "  print(\"31 days\")\n",
        "if month == month9:\n",
        "  print(\"30 days\")\n",
        "if month == month10:\n",
        "  print(\"31 days\")\n",
        "if month == month11:\n",
        "  print(\"30 days\")\n",
        "if month == month12:\n",
        "  print(\"31 days\")"
      ],
      "execution_count": 4,
      "outputs": [
        {
          "output_type": "stream",
          "name": "stdout",
          "text": [
            "Enter the month: February\n",
            "28 or 29 days\n"
          ]
        }
      ]
    },
    {
      "cell_type": "markdown",
      "metadata": {
        "id": "A_6NOE8VPcXU"
      },
      "source": [
        "## 7.\n",
        "\n",
        "Write an if statement that asks for the user's name via input() function. If the name is \"James\" make it print \"Welcome on board, James.\" Otherwise make it print an appropriate error message of your choice. \n",
        "\n",
        "Make sure you use the string formatting method."
      ]
    },
    {
      "cell_type": "code",
      "metadata": {
        "colab": {
          "base_uri": "https://localhost:8080/"
        },
        "id": "sKjUGwOKnl5e",
        "outputId": "fa7304b2-2844-4b9b-848f-21a3bd39370c"
      },
      "source": [
        "name = input(\"Enter your name: \")\n",
        "\n",
        "if name == \"James\":\n",
        "  print(\"Welcome on board, {}.\".format(name))\n",
        "else:\n",
        "  print(\"Name incorrect, please exit.\".format(name))\n",
        "  "
      ],
      "execution_count": 12,
      "outputs": [
        {
          "output_type": "stream",
          "name": "stdout",
          "text": [
            "Enter your name: James\n",
            "Welcome on board, James.\n"
          ]
        }
      ]
    },
    {
      "cell_type": "markdown",
      "metadata": {
        "id": "Ne4P3IZWPcYs"
      },
      "source": [
        "## 8. \n",
        "\n",
        "Write a code that prompts the user to input a number, and then returns \"True\" if number is divisible by 3, and \"False\" if otherwise."
      ]
    },
    {
      "cell_type": "code",
      "metadata": {
        "colab": {
          "base_uri": "https://localhost:8080/"
        },
        "id": "Avt4DnTuDmLB",
        "outputId": "b60fea49-b727-45b4-979d-a302af0fd1db"
      },
      "source": [
        "number = int(input(\"Enter number: \"))\n",
        "if number % 3 == 0 :\n",
        "  print(\"True\".format(number))\n",
        "else:\n",
        "  print(\"False\".format(number))"
      ],
      "execution_count": 3,
      "outputs": [
        {
          "output_type": "stream",
          "name": "stdout",
          "text": [
            "Enter number: 32\n",
            "False\n"
          ]
        }
      ]
    },
    {
      "cell_type": "markdown",
      "metadata": {
        "id": "fruGLX-DPcY3"
      },
      "source": [
        "## 9.\n",
        "\n",
        "A school has following rules for grading system:\n",
        "- Below 40 - F\n",
        "- 41 to 44 - E\n",
        "- 45 to 49 - D\n",
        "- 50 to 59 - C\n",
        "- 60 to 69 - B\n",
        "- 70 and above - A\n",
        "\n",
        "Write a code that asks the user to enter his mark and then prints out the corresponding grade."
      ]
    },
    {
      "cell_type": "code",
      "metadata": {
        "colab": {
          "base_uri": "https://localhost:8080/"
        },
        "id": "LQS0xO2l9xB5",
        "outputId": "1919e563-14c4-4e9f-f7e5-3abe916c5103"
      },
      "source": [
        "grade = int(input(\"Enter your grade: \"))\n",
        "if grade >= 0 and grade <= 40:\n",
        "    print('F')\n",
        "if grade >= 41 and grade <= 44:\n",
        "    print('E')\n",
        "if grade >= 45 and grade <= 49:\n",
        "    print('D')\n",
        "if grade >= 50 and grade <= 59:\n",
        "    print('C')\n",
        "if grade >= 60 and grade <= 69:\n",
        "    print('B')\n",
        "if grade >= 70 and grade <= 100:\n",
        "    print('A')"
      ],
      "execution_count": 1,
      "outputs": [
        {
          "output_type": "stream",
          "name": "stdout",
          "text": [
            "Enter your grade: 50\n",
            "C\n"
          ]
        }
      ]
    },
    {
      "cell_type": "markdown",
      "metadata": {
        "id": "qkR-tVnVPcY8"
      },
      "source": [
        "## 10. \n",
        "\n",
        "A company decided to give bonus of 5% to employee if his/her year of service is more than 5 years.\n",
        "Write a code that asks the user to input their salary and years of service and then prints the net bonus amount.\n",
        "\n",
        "Use string format method"
      ]
    },
    {
      "cell_type": "code",
      "metadata": {
        "colab": {
          "base_uri": "https://localhost:8080/"
        },
        "id": "c_HUhEANPcZF",
        "outputId": "106a3d99-b95c-45d4-86e0-6ae4c062134a"
      },
      "source": [
        "grade = 5\n",
        "bonus1 = int(input(\"Enter your salary: \"))\n",
        "years = int(input(\"Enter your years of service: \"))\n",
        "rate = 0.05\n",
        "amount = rate * bonus1 \n",
        "if years >= grade :\n",
        "  print(\"Salary of ${} amounts to ${} bonus.\" .format(bonus1, amount))\n",
        "elif years < grade :\n",
        "  print(\"You are not eligible for bonus at this time\")"
      ],
      "execution_count": 7,
      "outputs": [
        {
          "output_type": "stream",
          "name": "stdout",
          "text": [
            "Enter your salary: 50000\n",
            "Enter your years of service: 5\n",
            "Salary of $50000 amounts to $2500.0 bonus.\n"
          ]
        }
      ]
    }
  ]
}